{
  "nbformat": 4,
  "nbformat_minor": 0,
  "metadata": {
    "colab": {
      "provenance": [],
      "toc_visible": true
    },
    "kernelspec": {
      "name": "python3",
      "display_name": "Python 3"
    },
    "language_info": {
      "name": "python"
    }
  },
  "cells": [
    {
      "cell_type": "markdown",
      "source": [
        "<center>\n",
        "<h1><b>T.C.<br>İSTANBUL ÜNİVERSİTESİ<br>YÖK-TEBİP ÜSTÜN BAŞARILILAR PROGRAMI</b></h1><br>\n",
        "<h2><b>Lisans Bitirme Tezi</b></h2><br>\n",
        "<h3><b>PYTHON İLE VERİ ŞİFRELEME VE DEŞİFRELEME<br><br>Altuğ BEYHAN</b></h3><br>\n",
        "<h3><b>Matematik Anabilim Dalı<br>Matematik Programı</b></h3><br>\n",
        "<h3><b>DANIŞMAN<br>Prof. Dr. Gülçin ÇİVİ BİLİR, İ.T.Ü.</b></h3><br>\n",
        "<h4><b>Mayıs 2023<br>İSTANBUL</b></h4>\n",
        "</center>"
      ],
      "metadata": {
        "id": "KskLpy4J3KB-"
      }
    },
    {
      "cell_type": "markdown",
      "source": [
        "\n",
        "\n",
        "---\n",
        "\n",
        "\n"
      ],
      "metadata": {
        "id": "jW7wrPxG4zDO"
      }
    },
    {
      "cell_type": "markdown",
      "source": [
        "# **ÖNSÖZ**"
      ],
      "metadata": {
        "id": "lCnZ3Auv41Gv"
      }
    },
    {
      "cell_type": "markdown",
      "source": [
        "Yaklaşık bir buçuk yıl önce değerli danışman hocam Prof. Dr. Gülçin ÇİVİ BİLİR sayesinde başlayan kriptoloji yolculuğum hayatıma anlam kazandırdı. Bununla birlikte bilgisayar bilimlerine olan merakım kendimi programlama alanında geliştirmemi sağladı. Böylece çok sevdiğim ve hayatım boyunca çalışmaktan sıkılmayacağım ilgi alanlarımı bulmuş oldum. Bu alanları birleştirecek bir çalışma yapmak istemem üzerine danışman hocamın yönlendirmesiyle bitirme tezimin konusu ve içeriği ortaya çıktı.\n",
        "\n",
        "Başta beni sürekli yönlendiren, çalışmaya teşvik eden, çalışmalarımı takdir eden ve hayatıma anlam kazandıran danışman hocam Prof. Dr. Gülçin ÇİVİ BİLİR olmak üzere, beni hep destekleyen aileme ve her türlü zorlukta yanımda olan sevgili Berra Beray BEK’e teşekkürlerimi sunarım. \n",
        "\n",
        "Bitirme tezimin hayallerime giden yolun kapılarını bana açacağına içtenlikle inanıyorum. \n",
        "\n",
        "Altuğ BEYHAN \n",
        "\n",
        "Mayıs 2023"
      ],
      "metadata": {
        "id": "AYei5ycMEgtj"
      }
    },
    {
      "cell_type": "markdown",
      "source": [
        "\n",
        "\n",
        "---\n",
        "\n",
        "\n"
      ],
      "metadata": {
        "id": "CIzn23We5FjW"
      }
    },
    {
      "cell_type": "markdown",
      "source": [
        "# **ÖZET**"
      ],
      "metadata": {
        "id": "tPU43y3R5Fci"
      }
    },
    {
      "cell_type": "markdown",
      "source": [
        "Bu tezde, dünya çapında popüler bir programlama dili olan Python’ın kriptoloji uygulamalarıyla birlikte tanıtılması amaçlanmaktadır. Bu amaç doğrultusunda birinci bölümde Python programlama dilinin kısa bir tarihi, dünya genelindeki kullanım istatistikleri ve en çok kullanılan bazı tümleşik geliştirme ortamları hakkında bilgi verilmektedir. İkinci bölümde temel Python programlama bilgisi çeşitli kodlama uygulamaları ile ele alınmaktadır. Bu uygulamalar için yazılan kodlar, bir GitHub deposuna dahil edilerek tezde paylaşılmıştır. Üçüncü bölümde ise kriptolojiye ilişkin temel kavramlar açıklanmış ve örneklendirilmiştir. Ardından, Python programlama dili için tanımlanmış başlıca modül ve paketler tanıtılmış ve bu araçlar kullanılarak bazı şifreleme algoritmalarının Python ile uygulaması yapılmıştır. Tezin Ek bölümünde ise Türkçe alfabe için tanımlanmış ve AES gibi modern kriptoloji algoritmalarının Türkçe metinlere uygulanmasında kullanılan ASCII Code Page-857 tablosuna yer verilmiştir. \n",
        "\n",
        "**Anahtar kelimeler:** Python, Kriptoloji, Sezar Algoritması, Gelişmiş Şifreleme Standardı (AES), NumPy, PyCryptodome, Cryptography, Hashlib, Güvenli Özet Algoritması (SHA)."
      ],
      "metadata": {
        "id": "OetiAEomEke8"
      }
    },
    {
      "cell_type": "markdown",
      "source": [
        "\n",
        "\n",
        "---\n",
        "\n"
      ],
      "metadata": {
        "id": "vvwb1yOQ5FTu"
      }
    },
    {
      "cell_type": "markdown",
      "source": [
        "# **SUMMARY**"
      ],
      "metadata": {
        "id": "YTwENQXr5E8h"
      }
    },
    {
      "cell_type": "markdown",
      "source": [
        "This thesis aims to introduce Python, a globally popular programming language, along with its cryptography applications. In line with this objective, the first chapter provides information about the brief history of the Python programming language, usage statistics worldwide, and some commonly used integrated development environments. The second chapter covers basic Python programming knowledge through various coding applications. The codes written for these applications is included in a GitHub repository and shared in the thesis. The third chapter explains and exemplifies fundamental concepts related to cryptography. Subsequently, the main modules and packages defined for the Python programming language are introduced, and the implementation of some encryption algorithms using Python with these tools is demonstrated. In the thesis's Appendix section, the ASCII Code Page-857 Turkish Language table, which is used for applying modern cryptography algorithms such as AES to Turkish texts is presented.\n",
        "\n",
        "**Keywords:** Python, Cryptology, Caesar Algorithm, Advanced Encryption Standard (AES), NumPy, PyCryptodome, Cryptography, Hashlib, Secure Hash Algorithm (SHA)."
      ],
      "metadata": {
        "id": "Br5ZfiTZEm9Q"
      }
    },
    {
      "cell_type": "markdown",
      "source": [
        "\n",
        "\n",
        "---\n",
        "\n"
      ],
      "metadata": {
        "id": "H7ZrVCAn5ivS"
      }
    },
    {
      "cell_type": "markdown",
      "source": [
        "# **TARTIŞMA VE SONUÇ**"
      ],
      "metadata": {
        "id": "BS15jmzw8XEr"
      }
    },
    {
      "cell_type": "markdown",
      "source": [
        "Bu çalışmada ana hedef , dünya genelinde popüler bir programlama dili haline gelen  Python programlama dilinin şifre bilimi alanındaki uygulamalarına odaklanmak ve bu sahaya giriş yapmak isteyen kişilere temel bir kaynak hazırlamak olmuştur. Bu bağlamda öncelikle, Python programlama dilinin kriptoloji için bir araç olarak kullanılmasına yönelik çeşitli yöntemler incelenmiş ve gerekli temel programlama bilgileri ele alınmıştır. Python’ın kolay ve anlaşılır bir söz dizimine sahip olması, kullanıcıları projelerinde çeşitli amaçlara hizmet etmesi için Python’ı kullanmaya teşvik etmektedir. Özel olarak, kriptoloji alanında halihazırda Python için geliştirilmiş birçok modül, paket ve kütüphane bulunmaktadır ve gün geçtikçe hem bu araçlar geliştirilmekte hem de bu araçların yanına ek olarak yeni araçlar eklenmeye devam etmektedir. Bu nedenle, kriptoloji projelerinde Python programlama dilini kullanmak birçok avantajı beraberinde getirmektedir. Tez kapsamında ele alınan konular, yeni bir kriptoloji algoritmasının Python programlama diliyle geliştirilebilmesi için de gereken temel bilgileri sağlamaktadır. Söz konusu, bu tezin hazırlanış sürecinde Fibonacci Polinomları ile yeni bir kriptoloji algoritması geliştirilmeye başlanmıştır. Bu algoritma, Python kodları ile yakın tarihte bir dergiye gönderilmek üzere yayına hazırlanmaktadır. Geliştirilen yeni şifreleme yönteminin literatüre önemli bir katkı sağlayacağına ve yeni çalışmalara referans olacağına inanılmaktadır."
      ],
      "metadata": {
        "id": "kBuE8RnLEqAT"
      }
    },
    {
      "cell_type": "markdown",
      "source": [
        "\n",
        "\n",
        "---\n",
        "\n"
      ],
      "metadata": {
        "id": "QmdK62q48gL_"
      }
    },
    {
      "cell_type": "markdown",
      "source": [
        "# **KAYNAKLAR**"
      ],
      "metadata": {
        "id": "NFZtzkT_8jLa"
      }
    },
    {
      "cell_type": "markdown",
      "source": [
        "Ascii Codes: Code Page 857 (Turkish Language). https://www.ascii-codes.com/cp857.html (Erişim Tarihi: 19.05.2023).\n",
        "\n",
        "Brookshear, J.G., Brylow, D., “Bilgisayar Bilimine Giriş”, 12. Basımdan Çeviri, Nobel Akademik Yayıncılık, Ankara, 2018.\n",
        "\n",
        "Cryptography Documentation. https://cryptography.io/en/latest (Erişim Tarihi: 31.05.2023).\n",
        "\n",
        "Çivi Bilir, G., “Sezar’ın Anahtarı: Geçmişten Günümüze Klasik Şifreleme Yöntemleri”, İTÜ Yayınevi, Baskıda.\n",
        "\n",
        "FIPS Publication 197, NIST, 2001. https://nvlpubs.nist.gov/nistpubs/fips/nist.fips.197.pdf (Erişim Tarihi: 19.05.2023).\n",
        "\n",
        "Lutz, M., “Programming Python”, 1st Edition, O’Reilly & Associates, Inc., United States of America, 1996.\n",
        "\n",
        "NumPy Documentation. https://numpy.org/doc/stable/index.html (Erişim Tarihi: 28.05.2023).\n",
        "\n",
        "PyCryptodome Documentation. https://www.pycryptodome.org (Erişim Tarihi: 28.05.2023).\n",
        "\n",
        "Python Developer’s Guide. https://devguide.python.org/versions (Erişim Tarihi: 21.04.2023).\n",
        "\n",
        "Python Documentation. https://docs.python.org/3 (Erişim Tarihi: 31.05.2023).\n",
        "\n",
        "Samancıoğlu, A., “Python Sıfırdan Uzmanlığa Programlama”, 6. Baskı, Unikod Yayıncılık, İstanbul, 2023.\n",
        "\n",
        "TIOBE Index. https://www.tiobe.com/tiobe-index (Erişim Tarihi: 31.05.2023).\n",
        "\n",
        "Trappe, W., Washington, L. C., “Introduction to Cryptography with Coding Theory”, 2nd Edition, Pearson Education, Inc., United States of America, 2006.\n",
        "\n",
        "Ural, N., Örenç, Ö., “Uygulamalı Şifreleme ve Şifre Çözme Yöntemleri”, 4. Baskı, Pusula Yayıncılık, İstanbul, 2020."
      ],
      "metadata": {
        "id": "lifrqK9YEwaw"
      }
    },
    {
      "cell_type": "markdown",
      "source": [
        "\n",
        "\n",
        "---\n",
        "\n"
      ],
      "metadata": {
        "id": "x5eZTHNT8w6j"
      }
    },
    {
      "cell_type": "markdown",
      "source": [
        "# **EKLER**"
      ],
      "metadata": {
        "id": "x2ARQHYK838S"
      }
    },
    {
      "cell_type": "markdown",
      "source": [
        "**ASCII-CODE PAGE 857 TABLOSU**\n",
        "\n",
        "ASCII, Bilgi Değişimi için Amerikan Standart Kodlama Sistemi (American Standard Code for Information Interchange) ifadesinin kısaltmasıdır. Orijinal ASCII tablosu İngilizce alfabe için hazırlanmış olup 128 karaktere sahip olmakla birlikte farklı alfabeler için daha fazla karaktere sahip olması adına 256 karaktere genişletilmiş çeşitli tablolar bulunmaktadır. Türkçe alfabe için Code Page 857 tablosu belirlenmiştir (Ascii Codes: CP-857).\n",
        "\n",
        "**Not:** Code Page 857 tablosunda onluk tabanda 32’ye “boşluk”, 240’a “yumuşak tire” ve 255’e “bölünemez boşluk” karakterleri karşılık gelmiştir. Ayrıca onluk tabanda 213, 231 ve 242’ye karşılık karakter atamaları yapılmamıştır.\n",
        "\n",
        "**TABLOYA BURADAN ULAŞABİLİRSİNİZ:** https://github.com/altugbeyhan/ASCII-CP857-TURKISH-ALPHABET-TABLE"
      ],
      "metadata": {
        "id": "uNVXw_ExE2s0"
      }
    },
    {
      "cell_type": "markdown",
      "source": [
        "\n",
        "\n",
        "---\n",
        "\n"
      ],
      "metadata": {
        "id": "VXtjCXGN-Xbb"
      }
    },
    {
      "cell_type": "markdown",
      "source": [
        "<center>\n",
        "<h3><b><i>BU TEZDE YER ALAN PROGRAMLAR AŞAĞIDA VERİLMİŞTİR.</i></b></h3>\n",
        "</center>"
      ],
      "metadata": {
        "id": "8HeIfvuP5mjj"
      }
    },
    {
      "cell_type": "markdown",
      "source": [
        "\n",
        "\n",
        "---\n",
        "\n"
      ],
      "metadata": {
        "id": "DSPbviEm5yxC"
      }
    },
    {
      "cell_type": "markdown",
      "source": [
        "# **PROGRAMLAR**"
      ],
      "metadata": {
        "id": "-sZERfcdARM7"
      }
    },
    {
      "cell_type": "code",
      "execution_count": 2,
      "metadata": {
        "colab": {
          "base_uri": "https://localhost:8080/"
        },
        "id": "0VSzQgb-3Hz0",
        "outputId": "4b1f0768-dcac-432a-f3b9-421afe4bd0bd"
      },
      "outputs": [
        {
          "output_type": "stream",
          "name": "stdout",
          "text": [
            "Merhaba Dünya!\n"
          ]
        }
      ],
      "source": [
        "print(\"Merhaba Dünya!\")"
      ]
    },
    {
      "cell_type": "code",
      "source": [
        "#Merhaba Dünya Programı\n",
        "print(\"Merhaba Dünya!\") #print: çıktı veren fonksiyondur\n",
        "#print(\"Bu yazı ekranda gözükmeyecek\")\n",
        "print(\"Benim Adım Altuğ Beyhan.\")"
      ],
      "metadata": {
        "colab": {
          "base_uri": "https://localhost:8080/"
        },
        "id": "etqI_CzA55Ck",
        "outputId": "aff1db97-854b-49bd-af27-7799bf5e7615"
      },
      "execution_count": 3,
      "outputs": [
        {
          "output_type": "stream",
          "name": "stdout",
          "text": [
            "Merhaba Dünya!\n",
            "Benim Adım Altuğ Beyhan.\n"
          ]
        }
      ]
    },
    {
      "cell_type": "code",
      "source": [
        "\"\"\"\n",
        "Altuğ Beyhan\n",
        "2023\n",
        "www.altugbeyhan.com\n",
        "\"\"\"\n",
        "print(\"Merhaba Dünya!\")"
      ],
      "metadata": {
        "colab": {
          "base_uri": "https://localhost:8080/"
        },
        "id": "5MVNHklR55Ag",
        "outputId": "c9943fc1-10fd-4241-ef20-15f457955a13"
      },
      "execution_count": 4,
      "outputs": [
        {
          "output_type": "stream",
          "name": "stdout",
          "text": [
            "Merhaba Dünya!\n"
          ]
        }
      ]
    },
    {
      "cell_type": "code",
      "source": [
        "degisken = \"Merhaba Dünya!\"\n",
        "print(degisken)"
      ],
      "metadata": {
        "colab": {
          "base_uri": "https://localhost:8080/"
        },
        "id": "4Y4mFf5O54-J",
        "outputId": "ad17a3fb-f5dd-4548-d7f3-adcec6bcfc47"
      },
      "execution_count": 5,
      "outputs": [
        {
          "output_type": "stream",
          "name": "stdout",
          "text": [
            "Merhaba Dünya!\n"
          ]
        }
      ]
    },
    {
      "cell_type": "code",
      "source": [
        "help(\"keywords\")"
      ],
      "metadata": {
        "colab": {
          "base_uri": "https://localhost:8080/"
        },
        "id": "qQQyv0hO545u",
        "outputId": "ee28c0d0-f6d3-476e-c28a-f5507bcc9ecd"
      },
      "execution_count": 7,
      "outputs": [
        {
          "output_type": "stream",
          "name": "stdout",
          "text": [
            "\n",
            "Here is a list of the Python keywords.  Enter any keyword to get more help.\n",
            "\n",
            "False               class               from                or\n",
            "None                continue            global              pass\n",
            "True                def                 if                  raise\n",
            "and                 del                 import              return\n",
            "as                  elif                in                  try\n",
            "assert              else                is                  while\n",
            "async               except              lambda              with\n",
            "await               finally             nonlocal            yield\n",
            "break               for                 not                 \n",
            "\n"
          ]
        }
      ]
    },
    {
      "cell_type": "code",
      "source": [
        "print(type(\"Merhaba Dünya!\"))"
      ],
      "metadata": {
        "colab": {
          "base_uri": "https://localhost:8080/"
        },
        "id": "5wh98iLu543Z",
        "outputId": "a61cfd1e-bc9c-476c-8eac-59b5cde3c5bb"
      },
      "execution_count": 8,
      "outputs": [
        {
          "output_type": "stream",
          "name": "stdout",
          "text": [
            "<class 'str'>\n"
          ]
        }
      ]
    },
    {
      "cell_type": "code",
      "source": [
        "print(\"Merhaba Dünya!\", type(\"Merhaba Dünya!\"))\n",
        "print(17, type(17))\n",
        "print(3.14, type(3.14))\n",
        "print(3+4j, type(3+4j))\n",
        "print([\"altuğ\", \"beyhan\", 22], type([\"altuğ\", \"beyhan\", 22]))\n",
        "print((8,15,17), type((8,15,17)))\n",
        "print({\"elma\":\"apple\", \"kiraz\":\"cherry\"}, type({\"elma\":\"apple\", \"kiraz\":\"cherry\"}))\n",
        "print({1, 2, 3, 4, 5}, type({1, 2, 3, 4, 5}))\n",
        "print(True, type(True))"
      ],
      "metadata": {
        "colab": {
          "base_uri": "https://localhost:8080/"
        },
        "id": "U68xzC_T541C",
        "outputId": "53286bd4-cee6-4a97-b72d-95b6050cba29"
      },
      "execution_count": 10,
      "outputs": [
        {
          "output_type": "stream",
          "name": "stdout",
          "text": [
            "Merhaba Dünya! <class 'str'>\n",
            "17 <class 'int'>\n",
            "3.14 <class 'float'>\n",
            "(3+4j) <class 'complex'>\n",
            "['altuğ', 'beyhan', 22] <class 'list'>\n",
            "(8, 15, 17) <class 'tuple'>\n",
            "{'elma': 'apple', 'kiraz': 'cherry'} <class 'dict'>\n",
            "{1, 2, 3, 4, 5} <class 'set'>\n",
            "True <class 'bool'>\n"
          ]
        }
      ]
    },
    {
      "cell_type": "code",
      "source": [
        "isim_soyisim = \"Altuğ Beyhan\"\n",
        "kisilik_ozellikleri = [\"Zeki\",\"Çalışkan\",\"Yardımsever\"]\n",
        "kisisel_bilgiler = (\"Tekirdağlı\",\"22 Yaş\", \"Erkek\", \"Kriptograf\")\n",
        "\n",
        "print(isim_soyisim[0]) # 0. indis = 1. karakter\n",
        "print(isim_soyisim[-1]) # -1. indis = sonuncu karakter\n",
        "\n",
        "print(kisilik_ozellikleri[1]) # 1. indis = 2. eleman\n",
        "print(kisilik_ozellikleri[-2]) # -2. indis = sondan 2. eleman\n",
        "\n",
        "print(kisisel_bilgiler[2]) # 2. indis = 3. eleman\n",
        "print(kisisel_bilgiler[-3]) # -3. indis = sondan 3. eleman"
      ],
      "metadata": {
        "colab": {
          "base_uri": "https://localhost:8080/"
        },
        "id": "FrHxnjPr54ys",
        "outputId": "c559e4d4-3e07-440d-ed5b-b8bce9bf6b95"
      },
      "execution_count": 11,
      "outputs": [
        {
          "output_type": "stream",
          "name": "stdout",
          "text": [
            "A\n",
            "n\n",
            "Çalışkan\n",
            "Çalışkan\n",
            "Erkek\n",
            "22 Yaş\n"
          ]
        }
      ]
    },
    {
      "cell_type": "code",
      "source": [
        "isim = \"altuğ beyhan\"\n",
        "sayilar = [1,2,3,4,5,6,7,8,9,10]\n",
        "unluler = (\"a\",\"e\",\"ı\",\"i\",\"o\",\"ö\",\"u\",\"ü\")\n",
        "\n",
        "print(isim[1:10:1]) # 1, 2, ..., 9. indisler (10. indis hariç)\n",
        "print(sayilar[0:9:2]) # 0, 2, 4, 6, 8. indisler\n",
        "print(unluler[1:8:3]) # 1, 4, 7. indisler"
      ],
      "metadata": {
        "colab": {
          "base_uri": "https://localhost:8080/"
        },
        "id": "hR4UvpgP54vl",
        "outputId": "0f1968c4-744f-49a0-f333-7e2c6f35a725"
      },
      "execution_count": 12,
      "outputs": [
        {
          "output_type": "stream",
          "name": "stdout",
          "text": [
            "ltuğ beyh\n",
            "[1, 3, 5, 7, 9]\n",
            "('e', 'o', 'ü')\n"
          ]
        }
      ]
    },
    {
      "cell_type": "code",
      "source": [
        "isim = \"altuğ beyhan\"\n",
        "sayilar = [1,2,3,4,5,6,7,8,9,10]\n",
        "unluler = (\"a\",\"e\",\"ı\",\"i\",\"o\",\"ö\",\"u\",\"ü\")\n",
        "\n",
        "print(isim[::-1])\n",
        "print(sayilar[::-1])\n",
        "print(unluler[::-1])"
      ],
      "metadata": {
        "colab": {
          "base_uri": "https://localhost:8080/"
        },
        "id": "p0A4z8_B54rs",
        "outputId": "96ae7fbb-39e9-4203-e71f-17e843699df1"
      },
      "execution_count": 13,
      "outputs": [
        {
          "output_type": "stream",
          "name": "stdout",
          "text": [
            "nahyeb ğutla\n",
            "[10, 9, 8, 7, 6, 5, 4, 3, 2, 1]\n",
            "('ü', 'u', 'ö', 'o', 'i', 'ı', 'e', 'a')\n"
          ]
        }
      ]
    },
    {
      "cell_type": "code",
      "source": [
        "listem = [1, 2, 3]\n",
        "listem.append(4)\n",
        "print(listem)"
      ],
      "metadata": {
        "colab": {
          "base_uri": "https://localhost:8080/"
        },
        "id": "dsFyrWFa6at1",
        "outputId": "6bc26180-ef1d-4fc8-fc32-d8183ee72417"
      },
      "execution_count": 14,
      "outputs": [
        {
          "output_type": "stream",
          "name": "stdout",
          "text": [
            "[1, 2, 3, 4]\n"
          ]
        }
      ]
    },
    {
      "cell_type": "code",
      "source": [
        "def merhaba():\n",
        "    isim = input(\"Adınızı giriniz: \")\n",
        "    print(f\"Merhaba {isim}!\")\n",
        "\n",
        "merhaba()"
      ],
      "metadata": {
        "colab": {
          "base_uri": "https://localhost:8080/"
        },
        "id": "xrjNzLTu6arP",
        "outputId": "283daa31-976f-4597-f330-c241695d60b3"
      },
      "execution_count": 15,
      "outputs": [
        {
          "output_type": "stream",
          "name": "stdout",
          "text": [
            "Adınızı giriniz: Altuğ Beyhan\n",
            "Merhaba Altuğ Beyhan!\n"
          ]
        }
      ]
    },
    {
      "cell_type": "code",
      "source": [
        "def bilgi_ver(isim, soyisim, yas):\n",
        "    print(\"KİŞİSEL BİLGİLER\")\n",
        "    print(\"İsim:\", isim)\n",
        "    print(\"Soyisim:\", soyisim)\n",
        "    print(\"Yaş:\", yas)\n",
        "\n",
        "bilgi_ver(\"Altuğ\", \"Beyhan\", 22)"
      ],
      "metadata": {
        "colab": {
          "base_uri": "https://localhost:8080/"
        },
        "id": "u8DlVXwt6ao3",
        "outputId": "ab92874f-cb14-4920-e6e8-93ca9417dc94"
      },
      "execution_count": 16,
      "outputs": [
        {
          "output_type": "stream",
          "name": "stdout",
          "text": [
            "KİŞİSEL BİLGİLER\n",
            "İsim: Altuğ\n",
            "Soyisim: Beyhan\n",
            "Yaş: 22\n"
          ]
        }
      ]
    },
    {
      "cell_type": "code",
      "source": [
        "x = \"altuğ BEYHAN\"\n",
        "\n",
        "print(x.capitalize())\n",
        "\n",
        "print(x.count(\"a\"))\n",
        "\n",
        "print(x.index(\"t\"))\n",
        "\n",
        "print(x.lower())\n",
        "\n",
        "print(x.replace(\"a\", \"A\"))\n",
        "\n",
        "print(x.split((\" \")))\n",
        "\n",
        "print(x.upper())"
      ],
      "metadata": {
        "colab": {
          "base_uri": "https://localhost:8080/"
        },
        "id": "LuWM2zh66am0",
        "outputId": "4d127a17-2438-423a-f5c5-f5b75ed5ba85"
      },
      "execution_count": 17,
      "outputs": [
        {
          "output_type": "stream",
          "name": "stdout",
          "text": [
            "Altuğ beyhan\n",
            "1\n",
            "2\n",
            "altuğ beyhan\n",
            "Altuğ BEYHAN\n",
            "['altuğ', 'BEYHAN']\n",
            "ALTUĞ BEYHAN\n"
          ]
        }
      ]
    },
    {
      "cell_type": "code",
      "source": [
        "l = [\"a\", \"b\", \"c\", \"a\", \"b\", \"c\"]\n",
        "l.append(\"d\")\n",
        "print(l)\n",
        "\n",
        "l = [\"a\", \"b\", \"c\", \"a\", \"b\", \"c\"]\n",
        "l.clear()\n",
        "print(l)\n",
        "\n",
        "l = [\"a\", \"b\", \"c\", \"a\", \"b\", \"c\"]\n",
        "l2 = l.copy()\n",
        "print(l2)\n",
        "\n",
        "l = [\"a\", \"b\", \"c\", \"a\", \"b\", \"c\"]\n",
        "print(l.count(\"a\"))\n",
        "\n",
        "l = [\"a\", \"b\", \"c\", \"a\", \"b\", \"c\"]\n",
        "l.extend((\"d\", \"e\"))\n",
        "print(l)\n",
        "\n",
        "l = [\"a\", \"b\", \"c\", \"a\", \"b\", \"c\"]\n",
        "print(l.index(\"c\"))\n",
        "\n",
        "l = [\"a\", \"b\", \"c\", \"a\", \"b\", \"c\"]\n",
        "l.insert(2, \"d\")\n",
        "print(l)\n",
        "\n",
        "l = [\"a\", \"b\", \"c\", \"a\", \"b\", \"c\"]\n",
        "l.pop(0)\n",
        "print(l)\n",
        "\n",
        "l = [\"a\", \"b\", \"c\", \"a\", \"b\", \"c\"]\n",
        "l.remove(\"b\")\n",
        "print(l)\n",
        "\n",
        "l = [\"a\", \"b\", \"c\", \"a\", \"b\", \"c\"]\n",
        "l.reverse()\n",
        "print(l)\n",
        "\n",
        "l = [\"a\", \"b\", \"c\", \"a\", \"b\", \"c\"]\n",
        "l.sort(reverse=False)\n",
        "print(l)"
      ],
      "metadata": {
        "colab": {
          "base_uri": "https://localhost:8080/"
        },
        "id": "Y305qbt26akN",
        "outputId": "3b4ac212-5e8a-4291-d410-225f01c3cfc0"
      },
      "execution_count": 18,
      "outputs": [
        {
          "output_type": "stream",
          "name": "stdout",
          "text": [
            "['a', 'b', 'c', 'a', 'b', 'c', 'd']\n",
            "[]\n",
            "['a', 'b', 'c', 'a', 'b', 'c']\n",
            "2\n",
            "['a', 'b', 'c', 'a', 'b', 'c', 'd', 'e']\n",
            "2\n",
            "['a', 'b', 'd', 'c', 'a', 'b', 'c']\n",
            "['b', 'c', 'a', 'b', 'c']\n",
            "['a', 'c', 'a', 'b', 'c']\n",
            "['c', 'b', 'a', 'c', 'b', 'a']\n",
            "['a', 'a', 'b', 'b', 'c', 'c']\n"
          ]
        }
      ]
    },
    {
      "cell_type": "code",
      "source": [
        "liste = [1,2,3]\n",
        "liste[0] = \"a\" # listenin elemanları değiştirilebilir\n",
        "print(liste)\n",
        "\n",
        "demet = (1,2,3)\n",
        "demet[0] = \"a\" # ancak demetin elemanları değiştirilemez\n",
        "print(demet)"
      ],
      "metadata": {
        "colab": {
          "base_uri": "https://localhost:8080/",
          "height": 240
        },
        "id": "kFLfb6Us6ah4",
        "outputId": "e5662671-8b7d-4269-ae46-4fd101ed450a"
      },
      "execution_count": 19,
      "outputs": [
        {
          "output_type": "stream",
          "name": "stdout",
          "text": [
            "['a', 2, 3]\n"
          ]
        },
        {
          "output_type": "error",
          "ename": "TypeError",
          "evalue": "ignored",
          "traceback": [
            "\u001b[0;31m---------------------------------------------------------------------------\u001b[0m",
            "\u001b[0;31mTypeError\u001b[0m                                 Traceback (most recent call last)",
            "\u001b[0;32m<ipython-input-19-f36c2960f61a>\u001b[0m in \u001b[0;36m<cell line: 6>\u001b[0;34m()\u001b[0m\n\u001b[1;32m      4\u001b[0m \u001b[0;34m\u001b[0m\u001b[0m\n\u001b[1;32m      5\u001b[0m \u001b[0mdemet\u001b[0m \u001b[0;34m=\u001b[0m \u001b[0;34m(\u001b[0m\u001b[0;36m1\u001b[0m\u001b[0;34m,\u001b[0m\u001b[0;36m2\u001b[0m\u001b[0;34m,\u001b[0m\u001b[0;36m3\u001b[0m\u001b[0;34m)\u001b[0m\u001b[0;34m\u001b[0m\u001b[0;34m\u001b[0m\u001b[0m\n\u001b[0;32m----> 6\u001b[0;31m \u001b[0mdemet\u001b[0m\u001b[0;34m[\u001b[0m\u001b[0;36m0\u001b[0m\u001b[0;34m]\u001b[0m \u001b[0;34m=\u001b[0m \u001b[0;34m\"a\"\u001b[0m \u001b[0;31m# ancak demetin elemanları değiştirilemez\u001b[0m\u001b[0;34m\u001b[0m\u001b[0;34m\u001b[0m\u001b[0m\n\u001b[0m\u001b[1;32m      7\u001b[0m \u001b[0mprint\u001b[0m\u001b[0;34m(\u001b[0m\u001b[0mdemet\u001b[0m\u001b[0;34m)\u001b[0m\u001b[0;34m\u001b[0m\u001b[0;34m\u001b[0m\u001b[0m\n",
            "\u001b[0;31mTypeError\u001b[0m: 'tuple' object does not support item assignment"
          ]
        }
      ]
    },
    {
      "cell_type": "code",
      "source": [
        "demet = (\"a\",\"b\",\"c\",\"d\",\"b\",\"d\",\"e\",\"f\")\n",
        "print(demet.count(\"d\"))\n",
        "print(demet.index(\"e\"))"
      ],
      "metadata": {
        "colab": {
          "base_uri": "https://localhost:8080/"
        },
        "id": "Hvc-BM3b6afh",
        "outputId": "53f47112-c782-4015-c997-675e00b72d1c"
      },
      "execution_count": 20,
      "outputs": [
        {
          "output_type": "stream",
          "name": "stdout",
          "text": [
            "2\n",
            "6\n"
          ]
        }
      ]
    },
    {
      "cell_type": "code",
      "source": [
        "sozluk = {\"apple\":\"elma\", \"banana\":\"muz\"}\n",
        "\n",
        "print(sozluk)\n",
        "print(sozluk[\"apple\"])\n",
        "print(sozluk[\"banana\"])"
      ],
      "metadata": {
        "colab": {
          "base_uri": "https://localhost:8080/"
        },
        "id": "60AKpkHj6adK",
        "outputId": "b935338b-d298-4592-8ae3-9b1e51481c76"
      },
      "execution_count": 21,
      "outputs": [
        {
          "output_type": "stream",
          "name": "stdout",
          "text": [
            "{'apple': 'elma', 'banana': 'muz'}\n",
            "elma\n",
            "muz\n"
          ]
        }
      ]
    },
    {
      "cell_type": "code",
      "source": [
        "s = {\"apple\":\"elma\", \"banana\":\"muz\"}\n",
        "\n",
        "print(s.get(\"c\", \"yok\")) #print(s[\"cherry\"]) -> hata verir\n",
        "print(s.items())\n",
        "print(s.keys())\n",
        "print(s.values())"
      ],
      "metadata": {
        "colab": {
          "base_uri": "https://localhost:8080/"
        },
        "id": "6MdKh5yX6aaz",
        "outputId": "faf0bd82-9024-4918-828c-dd07688f311b"
      },
      "execution_count": 22,
      "outputs": [
        {
          "output_type": "stream",
          "name": "stdout",
          "text": [
            "yok\n",
            "dict_items([('apple', 'elma'), ('banana', 'muz')])\n",
            "dict_keys(['apple', 'banana'])\n",
            "dict_values(['elma', 'muz'])\n"
          ]
        }
      ]
    },
    {
      "cell_type": "code",
      "source": [
        "kume1 = {1,2,3,2,3,4,5}\n",
        "liste = [\"a\",\"b\",\"b\",\"c\",\"a\",\"d\"]\n",
        "kume2 = set(liste)\n",
        "print(kume1)\n",
        "print(liste)\n",
        "print(kume2)"
      ],
      "metadata": {
        "colab": {
          "base_uri": "https://localhost:8080/"
        },
        "id": "yELuh37a6aYu",
        "outputId": "b3daf222-b553-4500-ee62-0d9c77eaed9b"
      },
      "execution_count": 23,
      "outputs": [
        {
          "output_type": "stream",
          "name": "stdout",
          "text": [
            "{1, 2, 3, 4, 5}\n",
            "['a', 'b', 'b', 'c', 'a', 'd']\n",
            "{'d', 'c', 'b', 'a'}\n"
          ]
        }
      ]
    },
    {
      "cell_type": "code",
      "source": [
        "k1 = {1,2,3,4}\n",
        "k2 = {3,4,5,6}\n",
        "\n",
        "print(k1.difference(k2))\n",
        "print(k1.intersection(k2))\n",
        "print(k1.symmetric_difference(k2))\n",
        "print(k1.union(k2))"
      ],
      "metadata": {
        "colab": {
          "base_uri": "https://localhost:8080/"
        },
        "id": "HLVPprdi6aWY",
        "outputId": "485d902b-d021-45fb-9079-c9ded8f4d6e0"
      },
      "execution_count": 24,
      "outputs": [
        {
          "output_type": "stream",
          "name": "stdout",
          "text": [
            "{1, 2}\n",
            "{3, 4}\n",
            "{1, 2, 5, 6}\n",
            "{1, 2, 3, 4, 5, 6}\n"
          ]
        }
      ]
    },
    {
      "cell_type": "code",
      "source": [
        "print(5>3)\n",
        "print(5<3)"
      ],
      "metadata": {
        "colab": {
          "base_uri": "https://localhost:8080/"
        },
        "id": "r4naULh46aTy",
        "outputId": "b306716a-056d-4c1a-8313-cf5eddc65c9c"
      },
      "execution_count": 25,
      "outputs": [
        {
          "output_type": "stream",
          "name": "stdout",
          "text": [
            "True\n",
            "False\n"
          ]
        }
      ]
    },
    {
      "cell_type": "code",
      "source": [
        "print(20+3)\n",
        "print(20-3)\n",
        "print(20*3)\n",
        "print(20/3)\n",
        "print(20**3)\n",
        "print(20//3)\n",
        "print(20%3)"
      ],
      "metadata": {
        "colab": {
          "base_uri": "https://localhost:8080/"
        },
        "id": "pW5bRmTZ6aRc",
        "outputId": "f38a007d-ce36-49a6-bdab-18eaac80d9dc"
      },
      "execution_count": 26,
      "outputs": [
        {
          "output_type": "stream",
          "name": "stdout",
          "text": [
            "23\n",
            "17\n",
            "60\n",
            "6.666666666666667\n",
            "8000\n",
            "6\n",
            "2\n"
          ]
        }
      ]
    },
    {
      "cell_type": "code",
      "source": [
        "print(20<3)\n",
        "print(20==3)\n",
        "print(20!=3)\n",
        "print(20>3)\n",
        "print(20<=3)\n",
        "print(20>=3)"
      ],
      "metadata": {
        "colab": {
          "base_uri": "https://localhost:8080/"
        },
        "id": "E5SHrS-_6aPH",
        "outputId": "1b6fc53e-2e93-47d6-9b6f-ab101ebf43f1"
      },
      "execution_count": 27,
      "outputs": [
        {
          "output_type": "stream",
          "name": "stdout",
          "text": [
            "False\n",
            "False\n",
            "True\n",
            "True\n",
            "False\n",
            "True\n"
          ]
        }
      ]
    },
    {
      "cell_type": "code",
      "source": [
        "# not (değil/olumsuz)\n",
        "print(not True)\n",
        "\n",
        "# and (ve)\n",
        "print(True and False)\n",
        "\n",
        "# or (veya)\n",
        "print(True or False)"
      ],
      "metadata": {
        "colab": {
          "base_uri": "https://localhost:8080/"
        },
        "id": "WLhlHDND7AiY",
        "outputId": "aa34d7a2-42f4-4073-ccd1-dd522788299f"
      },
      "execution_count": 28,
      "outputs": [
        {
          "output_type": "stream",
          "name": "stdout",
          "text": [
            "False\n",
            "False\n",
            "True\n"
          ]
        }
      ]
    },
    {
      "cell_type": "code",
      "source": [
        "import numpy as np\n",
        "\n",
        "x = 14 # 00001110\n",
        "y = 21 # 00010101\n",
        "\n",
        "print (\"~x :\", ~x)\n",
        "# Bitsel değil: 11110001 (işaretli)\n",
        "print (\"~x :\", np.uint8(np.array(~x)))\n",
        "# Bitsel değil: 11110001 (işaretsiz)\n",
        "print (\"x & y: \", x & y)\n",
        "# Bitsel ve: 00000100\n",
        "print (\"x | y: \", x | y)\n",
        "# Bitsel veya: 00011111\n",
        "print (\"x ^ y: \", x ^ y)\n",
        "# Özel veya (XOR): 00011011\n",
        "print (\"x << 2: \", x << 2)\n",
        "# Sola (2) kaydırma: 00111000\n",
        "print (\"x >> 1: \", x >> 1)\n",
        "# Sağa (1) kaydırma: 00000111"
      ],
      "metadata": {
        "colab": {
          "base_uri": "https://localhost:8080/"
        },
        "id": "lH0OvhpA7Afy",
        "outputId": "7e9527bc-0588-42ac-b526-37add6484d59"
      },
      "execution_count": 29,
      "outputs": [
        {
          "output_type": "stream",
          "name": "stdout",
          "text": [
            "~x : -15\n",
            "~x : 241\n",
            "x & y:  4\n",
            "x | y:  31\n",
            "x ^ y:  27\n",
            "x << 2:  56\n",
            "x >> 1:  7\n"
          ]
        }
      ]
    },
    {
      "cell_type": "code",
      "source": [
        "x = 10\n",
        "x = x+5\n",
        "print(x)\n",
        "\n",
        "y = 20\n",
        "y += 7\n",
        "print(y)"
      ],
      "metadata": {
        "colab": {
          "base_uri": "https://localhost:8080/"
        },
        "id": "hlKmC2L27Ads",
        "outputId": "9cec3973-4f3d-41aa-a6c7-67123dd8cbe1"
      },
      "execution_count": 30,
      "outputs": [
        {
          "output_type": "stream",
          "name": "stdout",
          "text": [
            "15\n",
            "27\n"
          ]
        }
      ]
    },
    {
      "cell_type": "code",
      "source": [
        "def f(x):\n",
        "\n",
        "    if x<2:\n",
        "        return f\"f({x}) = {-x**2}\"\n",
        "\n",
        "    elif 2<=x<10:\n",
        "        return f\"f({x}) = {x-2}\"\n",
        "\n",
        "    else:\n",
        "        return f\"f({x}) = {(x+6) ** (1/2)}\"\n",
        "    \n",
        "\n",
        "print(f(-4),f(2),f(6),f(10),f(15),sep=\"\\n\")"
      ],
      "metadata": {
        "colab": {
          "base_uri": "https://localhost:8080/"
        },
        "id": "ColLUHe37AbX",
        "outputId": "8f8f5937-3f09-41d1-d4f1-d92851be6148"
      },
      "execution_count": 31,
      "outputs": [
        {
          "output_type": "stream",
          "name": "stdout",
          "text": [
            "f(-4) = -16\n",
            "f(2) = 0\n",
            "f(6) = 4\n",
            "f(10) = 4.0\n",
            "f(15) = 4.58257569495584\n"
          ]
        }
      ]
    },
    {
      "cell_type": "code",
      "source": [
        "isim_listesi = [\"Altuğ\", \"Beray\", \"Bayram\", \"Limon\"]\n",
        "for isim in isim_listesi:\n",
        "    print(f\"Merhaba {isim}!\")"
      ],
      "metadata": {
        "colab": {
          "base_uri": "https://localhost:8080/"
        },
        "id": "-vlyZeCq7AZA",
        "outputId": "a98016b8-29c0-4712-bca2-f78d077a9a12"
      },
      "execution_count": 32,
      "outputs": [
        {
          "output_type": "stream",
          "name": "stdout",
          "text": [
            "Merhaba Altuğ!\n",
            "Merhaba Beray!\n",
            "Merhaba Bayram!\n",
            "Merhaba Limon!\n"
          ]
        }
      ]
    },
    {
      "cell_type": "code",
      "source": [
        "sinif_no = 1\n",
        "while sinif_no<=12:\n",
        "    print(f\"{sinif_no}. sınıf\")\n",
        "    sinif_no += 1"
      ],
      "metadata": {
        "colab": {
          "base_uri": "https://localhost:8080/"
        },
        "id": "WLI3Secs7AWq",
        "outputId": "2b38d66d-affa-4955-986a-5ed87ba6e141"
      },
      "execution_count": 33,
      "outputs": [
        {
          "output_type": "stream",
          "name": "stdout",
          "text": [
            "1. sınıf\n",
            "2. sınıf\n",
            "3. sınıf\n",
            "4. sınıf\n",
            "5. sınıf\n",
            "6. sınıf\n",
            "7. sınıf\n",
            "8. sınıf\n",
            "9. sınıf\n",
            "10. sınıf\n",
            "11. sınıf\n",
            "12. sınıf\n"
          ]
        }
      ]
    },
    {
      "cell_type": "code",
      "source": [
        "import numpy as np\n",
        "\n",
        "anahtar = np.array([[1,2,3],[4,5,6],[7,8,9]])\n",
        "print(anahtar)"
      ],
      "metadata": {
        "colab": {
          "base_uri": "https://localhost:8080/"
        },
        "id": "2jScIn4B7AUk",
        "outputId": "99de7d3c-4728-4b0b-8032-4587a929e939"
      },
      "execution_count": 34,
      "outputs": [
        {
          "output_type": "stream",
          "name": "stdout",
          "text": [
            "[[1 2 3]\n",
            " [4 5 6]\n",
            " [7 8 9]]\n"
          ]
        }
      ]
    },
    {
      "cell_type": "code",
      "source": [
        "import numpy as np\n",
        "\n",
        "dizi1 = np.array([1,3,5], dtype=\"complex\")\n",
        "dizi2 = np.array([[1,2,3],[4,5,6],[7,8,9]])\n",
        "\n",
        "print(\"Dizi 1:\\n\",dizi1)\n",
        "print(\"Dizi 1'in 2. girdisi:\",dizi1[1])\n",
        "print(\"\\nDizi 2:\\n\",dizi2)\n",
        "print(\"Dizi 2'nin 3. satır-2. sütundaki girdisi:\",dizi2[2][1])"
      ],
      "metadata": {
        "colab": {
          "base_uri": "https://localhost:8080/"
        },
        "id": "IFxbmw9I7eaH",
        "outputId": "91cb7faa-3c25-4771-f5da-bd7dac16fe4b"
      },
      "execution_count": 35,
      "outputs": [
        {
          "output_type": "stream",
          "name": "stdout",
          "text": [
            "Dizi 1:\n",
            " [1.+0.j 3.+0.j 5.+0.j]\n",
            "Dizi 1'in 2. girdisi: (3+0j)\n",
            "\n",
            "Dizi 2:\n",
            " [[1 2 3]\n",
            " [4 5 6]\n",
            " [7 8 9]]\n",
            "Dizi 2'nin 3. satır-2. sütundaki girdisi: 8\n"
          ]
        }
      ]
    },
    {
      "cell_type": "code",
      "source": [
        "import numpy as np\n",
        "\n",
        "dizi1 = np.array([1,2,3])\n",
        "dizi2 = np.array([4,5,6])\n",
        "\n",
        "# ARİTMETİK OPERATÖRLER\n",
        "\n",
        "print(np.add(dizi1, dizi2)) # karşılıklı toplama (+)\n",
        "\n",
        "print(np.subtract(dizi1, dizi2)) # karşılıklı çıkarma (-)\n",
        "\n",
        "print(np.multiply(dizi1, dizi2)) # karşılıklı çarpma (*)\n",
        "\n",
        "print(np.divide(dizi1, dizi2)) # karşılıklı bölme (/)\n",
        "\n",
        "print(np.exp(dizi1)) # elemanların e üssü\n",
        "\n",
        "print(np.sqrt(dizi2)) # elemanların karekökü\n",
        "\n",
        "print(np.sin(dizi1)) # elemanların sinüsü\n",
        "\n",
        "print(np.log(dizi2)) # elemanların doğal logaritması (ln)"
      ],
      "metadata": {
        "colab": {
          "base_uri": "https://localhost:8080/"
        },
        "id": "YmKx4Yty7eXf",
        "outputId": "8699573a-9823-47ed-eb09-38ec500473a3"
      },
      "execution_count": 36,
      "outputs": [
        {
          "output_type": "stream",
          "name": "stdout",
          "text": [
            "[5 7 9]\n",
            "[-3 -3 -3]\n",
            "[ 4 10 18]\n",
            "[0.25 0.4  0.5 ]\n",
            "[ 2.71828183  7.3890561  20.08553692]\n",
            "[2.         2.23606798 2.44948974]\n",
            "[0.84147098 0.90929743 0.14112001]\n",
            "[1.38629436 1.60943791 1.79175947]\n"
          ]
        }
      ]
    },
    {
      "cell_type": "code",
      "source": [
        "import numpy as np\n",
        "\n",
        "matris1 = np.array([[1,2],[3,4]])\n",
        "matris2 = np.array([[5,6],[10,12]])\n",
        "\n",
        "# TEMEL MATRİSLER VE İŞLEMLER\n",
        "\n",
        "print(np.zeros((2,3))) # sıfır matris\n",
        "\n",
        "print(np.ones((1,4))) # birler matrisi\n",
        "\n",
        "print(np.eye(2)) # birim matris\n",
        "\n",
        "print(np.matmul(matris1,matris2)) # matris çarpımı\n",
        "\n",
        "print(np.linalg.inv(matris1)) # matris tersi\n",
        "\n",
        "print(np.linalg.matrix_power(matris1,3)) # matris kuvvet alma\n",
        "\n",
        "print(np.linalg.matrix_rank(matris2)) # matris rankı\n",
        "\n",
        "print(np.linalg.det(matris2)) # matris determinantı"
      ],
      "metadata": {
        "colab": {
          "base_uri": "https://localhost:8080/"
        },
        "id": "34-MV72_7eU4",
        "outputId": "6dc1145a-d4b9-462a-b8ee-69c5ca3c5972"
      },
      "execution_count": 37,
      "outputs": [
        {
          "output_type": "stream",
          "name": "stdout",
          "text": [
            "[[0. 0. 0.]\n",
            " [0. 0. 0.]]\n",
            "[[1. 1. 1. 1.]]\n",
            "[[1. 0.]\n",
            " [0. 1.]]\n",
            "[[25 30]\n",
            " [55 66]]\n",
            "[[-2.   1. ]\n",
            " [ 1.5 -0.5]]\n",
            "[[ 37  54]\n",
            " [ 81 118]]\n",
            "1\n",
            "0.0\n"
          ]
        }
      ]
    },
    {
      "cell_type": "code",
      "source": [
        "import numpy as np\n",
        "\n",
        "# MANTIK OPERATÖRLERİ\n",
        "\n",
        "# True <=> 1, False <=> 0 yerine kullanılabilir\n",
        "\n",
        "\n",
        "# np.logical_and -> Ve\n",
        "print(np.logical_and([True, False], [1, 1]))\n",
        "\n",
        "\n",
        "# np.logical_or -> Veya\n",
        "print(np.logical_or([True, False], [1, 1]))\n",
        "\n",
        "\n",
        "# np.logical_not -> Değil/Olumsuz\n",
        "print(np.logical_not([True, False, 1, 0]))\n",
        "\n",
        "\n",
        "# np.logical_xor -> Özel Veya (XOR)\n",
        "print(np.logical_xor([True, False], [1, 1]))"
      ],
      "metadata": {
        "colab": {
          "base_uri": "https://localhost:8080/"
        },
        "id": "jP2FLWxT7eSj",
        "outputId": "41c3b112-ebbb-451a-c208-46afe31aa750"
      },
      "execution_count": 38,
      "outputs": [
        {
          "output_type": "stream",
          "name": "stdout",
          "text": [
            "[ True False]\n",
            "[ True  True]\n",
            "[False  True False  True]\n",
            "[False  True]\n"
          ]
        }
      ]
    },
    {
      "cell_type": "code",
      "source": [
        "import numpy as np\n",
        "\n",
        "# TABAN ÇEVİRME\n",
        "\n",
        "# 2 tabanına çevirme\n",
        "print(np.binary_repr(17, width=8))\n",
        "\n",
        "# Herhangi bir tabana çevirme\n",
        "print(np.base_repr(1012, base=16))\n",
        "\n",
        "# BİTSEL OPERATÖRLER\n",
        "\n",
        "print(np.bitwise_and(13, 17))\n",
        "#00001101 ve 00010001 = 00000001 -> 1\n",
        "\n",
        "print(np.bitwise_or(13, 17))\n",
        "#00001101 veya 00010001 = 00011101 -> 29\n",
        "\n",
        "print(np.bitwise_not(13))\n",
        "#00001101 -> 11110010 -> -14 (işaretli)\n",
        "\n",
        "print(np.uint8(np.bitwise_not(13)))\n",
        "#00001101 -> 11110010 -> 242 (işaretsiz)\n",
        "\n",
        "print(np.bitwise_xor(13, 17))\n",
        "#00001101 ve 00010001 = 00011100 -> 28"
      ],
      "metadata": {
        "colab": {
          "base_uri": "https://localhost:8080/"
        },
        "id": "SodT7CWX7eP-",
        "outputId": "62ac4443-c097-43d5-a39c-24f464c16576"
      },
      "execution_count": 39,
      "outputs": [
        {
          "output_type": "stream",
          "name": "stdout",
          "text": [
            "00010001\n",
            "3F4\n",
            "1\n",
            "29\n",
            "-14\n",
            "242\n",
            "28\n"
          ]
        }
      ]
    },
    {
      "cell_type": "code",
      "source": [
        "def tekliyerinekoyma():\n",
        "\n",
        "    alfabe = \"ABCÇDEFGĞHIİJKLMNOÖPRSŞTUÜVYZ\"\n",
        "    sayac = 1\n",
        "\n",
        "    while True:\n",
        "        print(\"İŞLEMLER: Şifreleme (Ş)/Deşifreleme (D)/Kaba Kuvvet Saldırısı(K)/Çıkış (Ç)\")\n",
        "        karar = input(f\"{sayac} numaralı işlemi seçiniz: \")\n",
        "\n",
        "        if karar.upper() == \"Ş\":  # Şifreleme işlemi\n",
        "            duz_metin = input(\"Şifrelenecek metni giriniz: \").replace(\"i\", \"İ\").upper()\n",
        "            try:\n",
        "                anahtar = int(input(\"Anahtar sayısını giriniz: \")) % len(alfabe)\n",
        "            except:\n",
        "                print(\"Lütfen geçerli bir sayı giriniz.\\n\")\n",
        "                continue\n",
        "            sifreli_metin = \"\"\n",
        "            for i in range(len(duz_metin)):\n",
        "                if duz_metin[i] in alfabe:\n",
        "                    sifreli_indis = alfabe.index(duz_metin[i]) + anahtar\n",
        "                    sifreli_metin += alfabe[sifreli_indis % len(alfabe)]\n",
        "                else:\n",
        "                    sifreli_metin += duz_metin[i]\n",
        "            print(f\"Şifreli Metin: {sifreli_metin}\\n\")\n",
        "            sayac += 1\n",
        "\n",
        "        elif karar.upper() == \"D\":  # Deşifreleme işlemi (anahtar biliniyor ise)\n",
        "            sifreli_metin = input(\"Deşifrelenecek metni giriniz: \").replace(\"i\", \"İ\").upper()\n",
        "            try:\n",
        "                anahtar = int(input(\"Anahtar sayısını giriniz: \")) % len(alfabe)\n",
        "            except:\n",
        "                print(\"Lütfen geçerli bir sayı giriniz.\\n\")\n",
        "                continue\n",
        "            duz_metin = \"\"\n",
        "            for i in range(len(sifreli_metin)):\n",
        "                if sifreli_metin[i] in alfabe:\n",
        "                    duz_indis = alfabe.index(sifreli_metin[i]) - anahtar\n",
        "                    duz_metin += alfabe[duz_indis % len(alfabe)]\n",
        "                else:\n",
        "                    duz_metin += sifreli_metin[i]\n",
        "            print(f\"Düz Metin: {duz_metin}\\n\")\n",
        "            sayac += 1\n",
        "\n",
        "        elif karar.upper() == \"K\":  # Kaba kuvvet saldırısı (anahtar bilinmiyor ise)\n",
        "            sifreli_metin = input(\"Deşifrelenecek metni giriniz: \").replace(\"i\", \"İ\").upper()\n",
        "            for anahtar in range(1, len(alfabe)):\n",
        "                duz_metin = \"\"\n",
        "                for i in range(len(sifreli_metin)):\n",
        "                    if sifreli_metin[i] in alfabe:\n",
        "                        duz_indis = alfabe.index(sifreli_metin[i]) - anahtar\n",
        "                        duz_metin += alfabe[duz_indis % len(alfabe)]\n",
        "                    else:\n",
        "                        duz_metin += sifreli_metin[i]\n",
        "                print(f\"Anahtar = {anahtar} --> Düz Metin: {duz_metin}\")\n",
        "            print()\n",
        "            sayac += 1\n",
        "\n",
        "        elif karar.upper() == \"Ç\":  # Çıkış\n",
        "            print(\"Program sonlandırıldı.\")\n",
        "            break\n",
        "\n",
        "        else:  # Geçersiz işlem\n",
        "            print(\"Lütfen geçerli bir işlem giriniz.\\n\")\n",
        "            continue\n",
        "\n",
        "tekliyerinekoyma()"
      ],
      "metadata": {
        "colab": {
          "base_uri": "https://localhost:8080/"
        },
        "id": "C7Jtgv_g7eNm",
        "outputId": "38dee132-aca2-4bbf-959b-3034c3681dbe"
      },
      "execution_count": 40,
      "outputs": [
        {
          "output_type": "stream",
          "name": "stdout",
          "text": [
            "İŞLEMLER: Şifreleme (Ş)/Deşifreleme (D)/Kaba Kuvvet Saldırısı(K)/Çıkış (Ç)\n",
            "1 numaralı işlemi seçiniz: Ş\n",
            "Şifrelenecek metni giriniz: ALTUĞ\n",
            "Anahtar sayısını giriniz: 7\n",
            "Şifreli Metin: GSBCM\n",
            "\n",
            "İŞLEMLER: Şifreleme (Ş)/Deşifreleme (D)/Kaba Kuvvet Saldırısı(K)/Çıkış (Ç)\n",
            "2 numaralı işlemi seçiniz: D\n",
            "Deşifrelenecek metni giriniz: GSBCM\n",
            "Anahtar sayısını giriniz: 7\n",
            "Düz Metin: ALTUĞ\n",
            "\n",
            "İŞLEMLER: Şifreleme (Ş)/Deşifreleme (D)/Kaba Kuvvet Saldırısı(K)/Çıkış (Ç)\n",
            "3 numaralı işlemi seçiniz: K\n",
            "Deşifrelenecek metni giriniz: GSBCM\n",
            "Anahtar = 1 --> Düz Metin: FRABL\n",
            "Anahtar = 2 --> Düz Metin: EPZAK\n",
            "Anahtar = 3 --> Düz Metin: DÖYZJ\n",
            "Anahtar = 4 --> Düz Metin: ÇOVYİ\n",
            "Anahtar = 5 --> Düz Metin: CNÜVI\n",
            "Anahtar = 6 --> Düz Metin: BMUÜH\n",
            "Anahtar = 7 --> Düz Metin: ALTUĞ\n",
            "Anahtar = 8 --> Düz Metin: ZKŞTG\n",
            "Anahtar = 9 --> Düz Metin: YJSŞF\n",
            "Anahtar = 10 --> Düz Metin: VİRSE\n",
            "Anahtar = 11 --> Düz Metin: ÜIPRD\n",
            "Anahtar = 12 --> Düz Metin: UHÖPÇ\n",
            "Anahtar = 13 --> Düz Metin: TĞOÖC\n",
            "Anahtar = 14 --> Düz Metin: ŞGNOB\n",
            "Anahtar = 15 --> Düz Metin: SFMNA\n",
            "Anahtar = 16 --> Düz Metin: RELMZ\n",
            "Anahtar = 17 --> Düz Metin: PDKLY\n",
            "Anahtar = 18 --> Düz Metin: ÖÇJKV\n",
            "Anahtar = 19 --> Düz Metin: OCİJÜ\n",
            "Anahtar = 20 --> Düz Metin: NBIİU\n",
            "Anahtar = 21 --> Düz Metin: MAHIT\n",
            "Anahtar = 22 --> Düz Metin: LZĞHŞ\n",
            "Anahtar = 23 --> Düz Metin: KYGĞS\n",
            "Anahtar = 24 --> Düz Metin: JVFGR\n",
            "Anahtar = 25 --> Düz Metin: İÜEFP\n",
            "Anahtar = 26 --> Düz Metin: IUDEÖ\n",
            "Anahtar = 27 --> Düz Metin: HTÇDO\n",
            "Anahtar = 28 --> Düz Metin: ĞŞCÇN\n",
            "\n",
            "İŞLEMLER: Şifreleme (Ş)/Deşifreleme (D)/Kaba Kuvvet Saldırısı(K)/Çıkış (Ç)\n",
            "4 numaralı işlemi seçiniz: Ç\n",
            "Program sonlandırıldı.\n"
          ]
        }
      ]
    },
    {
      "cell_type": "code",
      "source": [
        "pip install PyCryptodome"
      ],
      "metadata": {
        "colab": {
          "base_uri": "https://localhost:8080/"
        },
        "id": "XqwgCA7X8FcB",
        "outputId": "090387a9-6c20-4819-a66a-3147c9109865"
      },
      "execution_count": 42,
      "outputs": [
        {
          "output_type": "stream",
          "name": "stdout",
          "text": [
            "Looking in indexes: https://pypi.org/simple, https://us-python.pkg.dev/colab-wheels/public/simple/\n",
            "Collecting PyCryptodome\n",
            "  Downloading pycryptodome-3.18.0-cp35-abi3-manylinux_2_17_x86_64.manylinux2014_x86_64.whl (2.1 MB)\n",
            "\u001b[2K     \u001b[90m━━━━━━━━━━━━━━━━━━━━━━━━━━━━━━━━━━━━━━━━\u001b[0m \u001b[32m2.1/2.1 MB\u001b[0m \u001b[31m22.6 MB/s\u001b[0m eta \u001b[36m0:00:00\u001b[0m\n",
            "\u001b[?25hInstalling collected packages: PyCryptodome\n",
            "Successfully installed PyCryptodome-3.18.0\n"
          ]
        }
      ]
    },
    {
      "cell_type": "code",
      "source": [
        "from Crypto.Cipher import AES\n",
        "\n",
        "duz_metin = \"M. Kemal Atatürk\".encode(\"cp857\")\n",
        "anahtar = \"jsezarınanahtarı\".encode(\"cp857\")\n",
        "\n",
        "aes = AES.new(anahtar, AES.MODE_ECB)\n",
        "sifreli_metin = aes.encrypt(duz_metin)\n",
        "desifreli_metin = aes.decrypt(sifreli_metin)\n",
        "\n",
        "print(\"Şifreli Metin: \", sifreli_metin.decode(\"cp857\"))\n",
        "print(\"Düz Metin: \", desifreli_metin.decode(\"cp857\"))"
      ],
      "metadata": {
        "colab": {
          "base_uri": "https://localhost:8080/"
        },
        "id": "a_mC81oV7eLP",
        "outputId": "c94c7670-58c0-49e1-efd4-bc56cef44b48"
      },
      "execution_count": 43,
      "outputs": [
        {
          "output_type": "stream",
          "name": "stdout",
          "text": [
            "Şifreli Metin:  ï\u000fêµ\u00079İ[ãıÑ·\u0016e\n",
            "┘\n",
            "Düz Metin:  M. Kemal Atatürk\n"
          ]
        }
      ]
    },
    {
      "cell_type": "code",
      "source": [
        "import hashlib\n",
        "\n",
        "duz_metin = \"Altuğ Beyhan\"\n",
        "ozet1 = hashlib.sha1(duz_metin.encode())\n",
        "ozet2 = hashlib.sha224(duz_metin.encode())\n",
        "ozet3 = hashlib.sha256(duz_metin.encode())\n",
        "ozet4 = hashlib.sha384(duz_metin.encode())\n",
        "ozet5 = hashlib.sha512(duz_metin.encode())\n",
        "ozet6 = hashlib.md5(duz_metin.encode())\n",
        "\n",
        "print(duz_metin,\"-> SHA1 ->\", ozet1.hexdigest())\n",
        "print(duz_metin,\"-> SHA224 ->\", ozet2.hexdigest())\n",
        "print(duz_metin,\"-> SHA256 ->\", ozet3.hexdigest())\n",
        "print(duz_metin,\"-> SHA384 ->\", ozet4.hexdigest())\n",
        "print(duz_metin,\"-> SHA512 ->\", ozet5.hexdigest())\n",
        "print(duz_metin,\"-> MD5 ->\", ozet6.hexdigest())"
      ],
      "metadata": {
        "colab": {
          "base_uri": "https://localhost:8080/"
        },
        "id": "TqWACwtx7eI6",
        "outputId": "1f97e631-d885-45ed-b791-4f66826c42d0"
      },
      "execution_count": 44,
      "outputs": [
        {
          "output_type": "stream",
          "name": "stdout",
          "text": [
            "Altuğ Beyhan -> SHA1 -> 3ce8a8f9e752ba458729329cf4b8707072fed4c7\n",
            "Altuğ Beyhan -> SHA224 -> 41594e0f5456f8a2ee0dcc15b98b7c37f972231393cf91e6f04094e9\n",
            "Altuğ Beyhan -> SHA256 -> edeae2889975fe75376d4bddd4ad04788ac166a684b9483c65d9fe0c5741a393\n",
            "Altuğ Beyhan -> SHA384 -> 776bc434574906593d3e547e76122dfa9ee0dba0407986da66c474a9eeee6c640b8d352630242e31e30c8e4bc2d7558d\n",
            "Altuğ Beyhan -> SHA512 -> 1128ea742fdd14ce0e63cb6cabe5ed928eb265e43fc31317df60306f647c8fbea95fb6d43868b4488d401c51e9ef4bb4d557abed8b76a41f333a19652c4b2811\n",
            "Altuğ Beyhan -> MD5 -> 3619d2d6e428cc34562e9390bf4acb57\n"
          ]
        }
      ]
    }
  ]
}
